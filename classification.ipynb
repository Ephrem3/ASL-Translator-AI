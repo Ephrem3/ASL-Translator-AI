{
 "cells": [
  {
   "cell_type": "code",
   "execution_count": 1,
   "metadata": {},
   "outputs": [
    {
     "name": "stdout",
     "output_type": "stream",
     "text": [
      "WARNING:tensorflow:From c:\\Users\\Rinzler\\AppData\\Local\\Programs\\Python\\Python310\\lib\\site-packages\\keras\\src\\losses.py:2976: The name tf.losses.sparse_softmax_cross_entropy is deprecated. Please use tf.compat.v1.losses.sparse_softmax_cross_entropy instead.\n",
      "\n",
      "2.15.0\n"
     ]
    }
   ],
   "source": [
    "#imports\n",
    "import tensorflow as tf\n",
    "import numpy as np\n",
    "import matplotlib.pyplot as plt\n",
    "import os\n",
    "import cv2\n",
    "from sklearn import model_selection\n",
    "\n",
    "\n",
    "print(tf.__version__)"
   ]
  },
  {
   "cell_type": "code",
   "execution_count": 2,
   "metadata": {},
   "outputs": [],
   "source": [
    "#import data\n",
    "train_dir = './asl_alphabet_train'\n",
    "test_dir = './asl_alphabet_test'\n"
   ]
  },
  {
   "cell_type": "code",
   "execution_count": 3,
   "metadata": {},
   "outputs": [],
   "source": [
    "#get data\n",
    "def get_data(dir):\n",
    "    images = []\n",
    "    labels = []\n",
    "    dir_list = os.listdir(dir)\n",
    "    for index, letter_dir in enumerate(dir_list):\n",
    "        print(\"Getting images of\", letter_dir)\n",
    "        for file in os.listdir(dir + '/' + letter_dir):\n",
    "            filepath = dir + '/' + letter_dir + '/' + file\n",
    "            image = cv2.resize(cv2.imread(filepath), (32, 32))\n",
    "            images.append(image)\n",
    "            labels.append(index)\n",
    "    images = np.array(images)\n",
    "    labels = np.array(labels)\n",
    "    return images, labels"
   ]
  },
  {
   "cell_type": "code",
   "execution_count": 4,
   "metadata": {},
   "outputs": [
    {
     "name": "stdout",
     "output_type": "stream",
     "text": [
      "Getting images of A\n",
      "Getting images of B\n",
      "Getting images of C\n",
      "Getting images of D\n",
      "Getting images of del\n",
      "Getting images of E\n",
      "Getting images of F\n",
      "Getting images of G\n",
      "Getting images of H\n",
      "Getting images of I\n",
      "Getting images of J\n",
      "Getting images of K\n",
      "Getting images of L\n",
      "Getting images of M\n",
      "Getting images of N\n",
      "Getting images of nothing\n",
      "Getting images of O\n",
      "Getting images of P\n",
      "Getting images of Q\n",
      "Getting images of R\n",
      "Getting images of S\n",
      "Getting images of space\n",
      "Getting images of T\n",
      "Getting images of U\n",
      "Getting images of V\n",
      "Getting images of W\n",
      "Getting images of X\n",
      "Getting images of Y\n",
      "Getting images of Z\n"
     ]
    }
   ],
   "source": [
    "X, y = get_data(train_dir)"
   ]
  },
  {
   "cell_type": "code",
   "execution_count": 5,
   "metadata": {},
   "outputs": [
    {
     "name": "stdout",
     "output_type": "stream",
     "text": [
      "29\n"
     ]
    }
   ],
   "source": [
    "# classes = ['A', 'B', 'C', 'D', 'E', 'F', 'G', 'H', 'I', 'J', 'K', \n",
    "#            'L', 'M', 'N', 'O', 'P', 'Q', 'R', 'S', 'T', 'U', 'V', \n",
    "#            'W', 'X', 'Y', 'Z', 'del', 'nothing', 'space']\n",
    "# print(len(classes))"
   ]
  },
  {
   "cell_type": "code",
   "execution_count": 5,
   "metadata": {},
   "outputs": [
    {
     "name": "stdout",
     "output_type": "stream",
     "text": [
      "X shape: (87000, 32, 32, 3)\n",
      "y length: 87000\n"
     ]
    }
   ],
   "source": [
    "print(\"X shape:\", X.shape)\n",
    "print(\"y length:\", len(y))\n"
   ]
  },
  {
   "cell_type": "code",
   "execution_count": null,
   "metadata": {},
   "outputs": [],
   "source": [
    "plt.Figure()\n",
    "plt.imshow(X[0])\n",
    "plt.colorbar()\n",
    "plt.show()"
   ]
  },
  {
   "cell_type": "code",
   "execution_count": 7,
   "metadata": {},
   "outputs": [],
   "source": [
    "#preprocess data\n",
    "def preprocess_data(X, y):\n",
    "    # normalize the rgb values, our filter should have 3 channels, red, green, blue. that has a range of 0-255\n",
    "    # if we want to feed it in to the neural network we should noramlize it to a value between 0-1 by dividing by 255\n",
    "    normalized_X = X/255.0\n",
    "    # normalized_X = X.astype('float32')/255.0\n",
    "    # our input set is encoded as the following (labels) A, B, C = 0, 1, 2\n",
    "    # however keras doesn't accept this encoding so we must convert our array of labels y into a 2d array \n",
    "    # where each column in a row corresponds to an int, and if the label corresponds to that int a 1 will go in that column, 0 if not\n",
    "    # this is called hot encoding\n",
    "    label_encoded_y = tf.keras.utils.to_categorical(y)\n",
    "    #label_encoded_y = y\n",
    "    \n",
    "    #split X and y further into train and testing sets\n",
    "    X_train, X_test, y_train, y_test = model_selection.train_test_split(normalized_X, label_encoded_y, test_size=0.2)\n",
    "    return X_train, X_test, y_train, y_test"
   ]
  },
  {
   "cell_type": "code",
   "execution_count": 8,
   "metadata": {},
   "outputs": [
    {
     "name": "stdout",
     "output_type": "stream",
     "text": [
      "X_train: (69600, 32, 32, 3)\n",
      "X_test: (17400, 32, 32, 3)\n",
      "y_train[0]: [0. 0. 0. 0. 0. 0. 0. 0. 0. 0. 0. 0. 0. 0. 0. 0. 0. 0. 0. 0. 0. 0. 1. 0.\n",
      " 0. 0. 0. 0. 0.]\n",
      "y_train length: 69600\n"
     ]
    }
   ],
   "source": [
    "X_train, X_test, y_train, y_test = preprocess_data(X, y)\n",
    "print(\"X_train:\",X_train.shape)\n",
    "print(\"X_test:\", X_test.shape)\n",
    "print(\"y_train[0]:\",y_train[0])\n",
    "print(\"y_train length:\", len(y_train))"
   ]
  },
  {
   "cell_type": "code",
   "execution_count": null,
   "metadata": {},
   "outputs": [],
   "source": [
    "#10 inch by 10 inch figure\n",
    "plt.figure(figsize=(12,12))\n",
    "for i in range(16):\n",
    "    plt.subplot(4, 4, i+1)\n",
    "    plt.imshow(X_train[i])\n",
    "    plt.xlabel(y_train[i])\n",
    "plt.show()"
   ]
  },
  {
   "cell_type": "code",
   "execution_count": 12,
   "metadata": {},
   "outputs": [
    {
     "name": "stdout",
     "output_type": "stream",
     "text": [
      "Model: \"sequential_2\"\n",
      "_________________________________________________________________\n",
      " Layer (type)                Output Shape              Param #   \n",
      "=================================================================\n",
      " conv2d_3 (Conv2D)           (None, 30, 30, 32)        896       \n",
      "                                                                 \n",
      " max_pooling2d_2 (MaxPoolin  (None, 15, 15, 32)        0         \n",
      " g2D)                                                            \n",
      "                                                                 \n",
      " conv2d_4 (Conv2D)           (None, 13, 13, 64)        18496     \n",
      "                                                                 \n",
      " max_pooling2d_3 (MaxPoolin  (None, 6, 6, 64)          0         \n",
      " g2D)                                                            \n",
      "                                                                 \n",
      " conv2d_5 (Conv2D)           (None, 4, 4, 64)          36928     \n",
      "                                                                 \n",
      " flatten (Flatten)           (None, 1024)              0         \n",
      "                                                                 \n",
      " dense (Dense)               (None, 64)                65600     \n",
      "                                                                 \n",
      " dense_1 (Dense)             (None, 29)                1885      \n",
      "                                                                 \n",
      "=================================================================\n",
      "Total params: 123805 (483.61 KB)\n",
      "Trainable params: 123805 (483.61 KB)\n",
      "Non-trainable params: 0 (0.00 Byte)\n",
      "_________________________________________________________________\n"
     ]
    }
   ],
   "source": [
    "#build model\n",
    "from keras import models, layers\n",
    "model = models.Sequential()\n",
    "model.add(layers.Conv2D(32, (3, 3), activation='relu', input_shape=(32, 32, 3)))\n",
    "model.add(layers.MaxPooling2D((2, 2)))\n",
    "model.add(layers.Conv2D(64, (3, 3), activation='relu'))\n",
    "model.add(layers.MaxPooling2D((2, 2)))\n",
    "model.add(layers.Conv2D(64, (3, 3), activation='relu'))\n",
    "model.add(layers.Flatten())\n",
    "model.add(layers.Dense(64, activation='relu'))\n",
    "model.add(layers.Dense(29))\n",
    "model.summary()\n",
    "# model = tf.keras.Sequential([\n",
    "#     tf.keras.layers.Flatten(input_shape=(32, 32, 3)),\n",
    "#     tf.keras.layers.Dense(128, activation='relu'),\n",
    "#     tf.keras.layers.Dense(29)\n",
    "# ])"
   ]
  },
  {
   "cell_type": "code",
   "execution_count": 13,
   "metadata": {},
   "outputs": [
    {
     "name": "stdout",
     "output_type": "stream",
     "text": [
      "WARNING:tensorflow:From c:\\Users\\Rinzler\\AppData\\Local\\Programs\\Python\\Python310\\lib\\site-packages\\keras\\src\\optimizers\\__init__.py:309: The name tf.train.Optimizer is deprecated. Please use tf.compat.v1.train.Optimizer instead.\n",
      "\n"
     ]
    }
   ],
   "source": [
    "#compile model\n",
    "model.compile(optimizer='adam',\n",
    "            loss=tf.keras.losses.CategoricalCrossentropy(from_logits=True),\n",
    "            metrics=['accuracy'])"
   ]
  },
  {
   "cell_type": "code",
   "execution_count": 14,
   "metadata": {},
   "outputs": [
    {
     "name": "stdout",
     "output_type": "stream",
     "text": [
      "Epoch 1/10\n",
      "WARNING:tensorflow:From c:\\Users\\Rinzler\\AppData\\Local\\Programs\\Python\\Python310\\lib\\site-packages\\keras\\src\\utils\\tf_utils.py:492: The name tf.ragged.RaggedTensorValue is deprecated. Please use tf.compat.v1.ragged.RaggedTensorValue instead.\n",
      "\n",
      "WARNING:tensorflow:From c:\\Users\\Rinzler\\AppData\\Local\\Programs\\Python\\Python310\\lib\\site-packages\\keras\\src\\engine\\base_layer_utils.py:384: The name tf.executing_eagerly_outside_functions is deprecated. Please use tf.compat.v1.executing_eagerly_outside_functions instead.\n",
      "\n",
      "2175/2175 [==============================] - 25s 11ms/step - loss: 1.1802 - accuracy: 0.6313\n",
      "Epoch 2/10\n",
      "2175/2175 [==============================] - 26s 12ms/step - loss: 0.2755 - accuracy: 0.9074\n",
      "Epoch 3/10\n",
      "2175/2175 [==============================] - 27s 12ms/step - loss: 0.1451 - accuracy: 0.9504\n",
      "Epoch 4/10\n",
      "2175/2175 [==============================] - 27s 13ms/step - loss: 0.0930 - accuracy: 0.9689\n",
      "Epoch 5/10\n",
      "2175/2175 [==============================] - 29s 13ms/step - loss: 0.0762 - accuracy: 0.9753\n",
      "Epoch 6/10\n",
      "2175/2175 [==============================] - 27s 13ms/step - loss: 0.0563 - accuracy: 0.9817\n",
      "Epoch 7/10\n",
      "2175/2175 [==============================] - 30s 14ms/step - loss: 0.0497 - accuracy: 0.9836\n",
      "Epoch 8/10\n",
      "2175/2175 [==============================] - 32s 15ms/step - loss: 0.0432 - accuracy: 0.9865\n",
      "Epoch 9/10\n",
      "2175/2175 [==============================] - 33s 15ms/step - loss: 0.0360 - accuracy: 0.9890\n",
      "Epoch 10/10\n",
      "2175/2175 [==============================] - 30s 14ms/step - loss: 0.0375 - accuracy: 0.9883\n"
     ]
    },
    {
     "data": {
      "text/plain": [
       "<keras.src.callbacks.History at 0x26197965030>"
      ]
     },
     "execution_count": 14,
     "metadata": {},
     "output_type": "execute_result"
    }
   ],
   "source": [
    "#train model\n",
    "model.fit(X_train, y_train, epochs=10)"
   ]
  },
  {
   "cell_type": "code",
   "execution_count": 15,
   "metadata": {},
   "outputs": [
    {
     "name": "stdout",
     "output_type": "stream",
     "text": [
      "544/544 - 2s - loss: 0.0278 - accuracy: 0.9907 - 2s/epoch - 5ms/step\n",
      "Test accuracy: 0.9906896352767944\n",
      "Test loss: 0.02776140347123146\n"
     ]
    }
   ],
   "source": [
    "#evaluate accuracy\n",
    "test_loss, test_acc = model.evaluate(X_test, y_test, verbose=2)\n",
    "print('Test accuracy:', test_acc)\n",
    "print('Test loss:', test_loss)"
   ]
  }
 ],
 "metadata": {
  "kernelspec": {
   "display_name": "Python 3",
   "language": "python",
   "name": "python3"
  },
  "language_info": {
   "codemirror_mode": {
    "name": "ipython",
    "version": 3
   },
   "file_extension": ".py",
   "mimetype": "text/x-python",
   "name": "python",
   "nbconvert_exporter": "python",
   "pygments_lexer": "ipython3",
   "version": "3.10.7"
  }
 },
 "nbformat": 4,
 "nbformat_minor": 2
}
